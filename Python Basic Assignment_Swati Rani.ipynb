{
 "cells": [
  {
   "cell_type": "code",
   "execution_count": 1,
   "id": "30e74842-7a5e-41b5-af2f-e7f6837d584e",
   "metadata": {},
   "outputs": [],
   "source": [
    "#first assigenment of python"
   ]
  },
  {
   "cell_type": "code",
   "execution_count": 2,
   "id": "fcae4224-bede-4db3-9a8f-611d62b0e3f9",
   "metadata": {},
   "outputs": [],
   "source": [
    "#1.Explain the key features that make it popular choice for programming."
   ]
  },
  {
   "cell_type": "raw",
   "id": "31f9cd8c-db37-4b1e-87c3-ee276d5418d6",
   "metadata": {},
   "source": [
    "#ANSWER:-\n",
    "\n",
    "#Python is a versatile,general purpose programming language thats popular for its use.\n",
    "#Here are some key features of Python\n",
    "#Easy to learn\n",
    "#Easy to code\n",
    "#Easy to Read\n",
    "#Easy to Debug\n",
    "#Huge number of libraries\n",
    "#Object oriented language\n",
    "#Compatibility >> python can work with other programming language and system.\n",
    "#Python has large nnumber of developers."
   ]
  },
  {
   "cell_type": "code",
   "execution_count": null,
   "id": "0c8a3f7b-dfe2-438d-a142-2b8676834f62",
   "metadata": {},
   "outputs": [],
   "source": [
    "#2.Describe the role of predefined keywords inpython and provide examples of how they are used in a program."
   ]
  },
  {
   "cell_type": "raw",
   "id": "a035bd59-3e1f-437d-a358-6ae5baaa251c",
   "metadata": {},
   "source": [
    "Answers:-\n",
    "Role of predefined keywords in python:-\n",
    "#Predefined keywords have specific meanings and functions within the language.\n",
    "#keywords are used to define the syntax of the coding.\n",
    "\n",
    "\n",
    "#Examples\n",
    "\n",
    "1.False\n",
    "2.True\n",
    "3.none\n",
    "4.else\n",
    "5.elif\n",
    "6.break\n",
    "7.class\n",
    "8.continue\n",
    "9.in\n",
    "10.for\n",
    "11.while"
   ]
  },
  {
   "cell_type": "code",
   "execution_count": 33,
   "id": "154b83ae-fe5e-4bf2-8cfa-5131511f5808",
   "metadata": {},
   "outputs": [
    {
     "data": {
      "text/plain": [
       "int"
      ]
     },
     "execution_count": 33,
     "metadata": {},
     "output_type": "execute_result"
    }
   ],
   "source": [
    "#1.False/True keyword\n",
    "\n",
    "a=1\n",
    "type(a)"
   ]
  },
  {
   "cell_type": "code",
   "execution_count": 35,
   "id": "cfa6cb11-8269-450b-8c23-6c219d1bf776",
   "metadata": {},
   "outputs": [
    {
     "data": {
      "text/plain": [
       "bool"
      ]
     },
     "execution_count": 35,
     "metadata": {},
     "output_type": "execute_result"
    }
   ],
   "source": [
    "a=True\n",
    "type(a)"
   ]
  },
  {
   "cell_type": "code",
   "execution_count": 36,
   "id": "d8a9e150-dc3a-48cf-ac23-e2ad78638157",
   "metadata": {},
   "outputs": [
    {
     "data": {
      "text/plain": [
       "bool"
      ]
     },
     "execution_count": 36,
     "metadata": {},
     "output_type": "execute_result"
    }
   ],
   "source": [
    "a=False\n",
    "type(a)"
   ]
  },
  {
   "cell_type": "code",
   "execution_count": 37,
   "id": "08f356d8-923e-442e-8157-d5e9f06f40b1",
   "metadata": {},
   "outputs": [
    {
     "data": {
      "text/plain": [
       "True"
      ]
     },
     "execution_count": 37,
     "metadata": {},
     "output_type": "execute_result"
    }
   ],
   "source": [
    "bool(1)"
   ]
  },
  {
   "cell_type": "code",
   "execution_count": 38,
   "id": "dcfb7c8e-23a8-467b-9941-afaddac7ec20",
   "metadata": {},
   "outputs": [
    {
     "data": {
      "text/plain": [
       "False"
      ]
     },
     "execution_count": 38,
     "metadata": {},
     "output_type": "execute_result"
    }
   ],
   "source": [
    "bool(0)"
   ]
  },
  {
   "cell_type": "code",
   "execution_count": 39,
   "id": "d981125c-039a-49c1-ac17-c27a724f1575",
   "metadata": {},
   "outputs": [
    {
     "data": {
      "text/plain": [
       "1"
      ]
     },
     "execution_count": 39,
     "metadata": {},
     "output_type": "execute_result"
    }
   ],
   "source": [
    "True-False"
   ]
  },
  {
   "cell_type": "code",
   "execution_count": 41,
   "id": "662a7ef0-fee9-4c8e-a32a-37cf84a19dc9",
   "metadata": {},
   "outputs": [
    {
     "data": {
      "text/plain": [
       "0.0"
      ]
     },
     "execution_count": 41,
     "metadata": {},
     "output_type": "execute_result"
    }
   ],
   "source": [
    "False/True"
   ]
  },
  {
   "cell_type": "code",
   "execution_count": 43,
   "id": "b5135704-0367-479a-a360-583ec970e31d",
   "metadata": {},
   "outputs": [],
   "source": [
    "#2. if :-"
   ]
  },
  {
   "cell_type": "code",
   "execution_count": 48,
   "id": "6f1a7142-0d6a-4c94-bf56-805163de5375",
   "metadata": {},
   "outputs": [
    {
     "name": "stdout",
     "output_type": "stream",
     "text": [
      "The number is greater than 10\n"
     ]
    }
   ],
   "source": [
    "a=100\n",
    "if a>10:\n",
    "    print(\"The number is greater than 10\")"
   ]
  },
  {
   "cell_type": "code",
   "execution_count": 49,
   "id": "a37baeef-e5b0-4c51-9759-0e8559d5a320",
   "metadata": {},
   "outputs": [],
   "source": [
    "#3. ifelse :-"
   ]
  },
  {
   "cell_type": "code",
   "execution_count": 50,
   "id": "35be40c5-e14d-4c10-b909-491395b71d60",
   "metadata": {},
   "outputs": [
    {
     "name": "stdout",
     "output_type": "stream",
     "text": [
      "I will eat momos\n"
     ]
    }
   ],
   "source": [
    "a=\"rainy\"\n",
    "if a==\"rainy\":\n",
    "    print(\"I will eat momos\")\n",
    "else:\n",
    "    print(\"I will drink cold drink\")"
   ]
  },
  {
   "cell_type": "code",
   "execution_count": 51,
   "id": "de86c2ef-3e78-4392-ae22-33740afd7041",
   "metadata": {},
   "outputs": [],
   "source": [
    "#4. elif:-"
   ]
  },
  {
   "cell_type": "code",
   "execution_count": 53,
   "id": "b284fde7-bc6a-42c0-907b-58b99f7c6822",
   "metadata": {},
   "outputs": [
    {
     "name": "stdout",
     "output_type": "stream",
     "text": [
      "The number a is greater than 10\n"
     ]
    }
   ],
   "source": [
    "a=50\n",
    "if a>10:\n",
    "    print(\"The number a is greater than 10\")\n",
    "elif a<10:\n",
    "    print(\"The number a is lesse than 10\")\n",
    "else:\n",
    "        print(\"The number a is equals to 100\")"
   ]
  },
  {
   "cell_type": "code",
   "execution_count": null,
   "id": "d2057552-faf8-4548-a327-ae3224fbda99",
   "metadata": {},
   "outputs": [],
   "source": [
    "#5.while :-"
   ]
  },
  {
   "cell_type": "code",
   "execution_count": 62,
   "id": "c1c7759a-edc6-4aec-96e6-02c79b8b3bea",
   "metadata": {},
   "outputs": [
    {
     "name": "stdout",
     "output_type": "stream",
     "text": [
      "1\n",
      "3\n",
      "5\n",
      "7\n"
     ]
    }
   ],
   "source": [
    "n=8\n",
    "i=1\n",
    "while i<8:\n",
    "    print(i)\n",
    "    i=i+2"
   ]
  },
  {
   "cell_type": "code",
   "execution_count": 63,
   "id": "78af2476-8fab-4344-ab1c-f77d5595b1dd",
   "metadata": {},
   "outputs": [
    {
     "name": "stdout",
     "output_type": "stream",
     "text": [
      "2\n",
      "4\n",
      "5\n",
      "6\n",
      "7\n",
      "This will executed without any break\n"
     ]
    }
   ],
   "source": [
    "#6.continue \n",
    "n=7\n",
    "i=1\n",
    "while i <n:\n",
    "    i=i+1\n",
    "    if i==3:\n",
    "        continue\n",
    "    print(i)\n",
    "else:\n",
    "     print(\"This will executed without any break\")"
   ]
  },
  {
   "cell_type": "code",
   "execution_count": null,
   "id": "b2bcd8cd-29a2-4569-a3d1-51debbd04bca",
   "metadata": {},
   "outputs": [],
   "source": [
    "#7. in:-"
   ]
  },
  {
   "cell_type": "code",
   "execution_count": 66,
   "id": "02992538-3bfc-46e9-a389-3772cbebf895",
   "metadata": {},
   "outputs": [
    {
     "name": "stdout",
     "output_type": "stream",
     "text": [
      "S\n",
      "w\n",
      "a\n",
      "t\n",
      "i\n",
      " \n",
      "R\n",
      "a\n",
      "n\n",
      "i\n",
      " \n",
      "B\n",
      "h\n",
      "a\n",
      "r\n",
      "g\n",
      "a\n",
      "v\n"
     ]
    }
   ],
   "source": [
    "for i in \"Swati Rani Bhargav\":\n",
    "    print (i)\n"
   ]
  },
  {
   "cell_type": "code",
   "execution_count": 70,
   "id": "b9553e3d-e67b-48d2-8b61-704b8f735f63",
   "metadata": {},
   "outputs": [
    {
     "name": "stdout",
     "output_type": "stream",
     "text": [
      "1\n",
      "2\n",
      "3\n"
     ]
    }
   ],
   "source": [
    "#8.break statement \n",
    "l=[1,2,3,\"swati\",\"mango\"]\n",
    "for i in l: \n",
    "    if i == \"swati\":\n",
    "        break\n",
    "    print(i)\n",
    "else:\n",
    "    print(\"This will break a statement\")"
   ]
  },
  {
   "cell_type": "code",
   "execution_count": 1,
   "id": "227d0b3f-e100-4957-973c-02fd2518412e",
   "metadata": {},
   "outputs": [],
   "source": [
    "#3.Compare and contrast mutable and immutable objects in python with examples."
   ]
  },
  {
   "cell_type": "raw",
   "id": "8f80bb41-8799-4d0f-885e-dacbde81b9db",
   "metadata": {},
   "source": [
    "#ANSWER:-"
   ]
  },
  {
   "cell_type": "raw",
   "id": "512b1693-91fe-4cc7-bc8b-c2414154dfc7",
   "metadata": {},
   "source": [
    "#Mutable objects >> can be changed after they created ,like lists."
   ]
  },
  {
   "cell_type": "code",
   "execution_count": 6,
   "id": "fa6ce120-9d41-4e78-9948-b1e4d3769c4e",
   "metadata": {},
   "outputs": [
    {
     "data": {
      "text/plain": [
       "[1, 2, 3, 'pwskills', 'swati', 4.5, (7+5j)]"
      ]
     },
     "execution_count": 6,
     "metadata": {},
     "output_type": "execute_result"
    }
   ],
   "source": [
    "#Examples>>\n",
    "\n",
    "list_cont=[1,2,3,\"pwskills\",\"swati\",4.5,7+5j]\n",
    "list_cont"
   ]
  },
  {
   "cell_type": "code",
   "execution_count": 8,
   "id": "79dff0b3-1bee-4c53-a68d-360fb7f0b309",
   "metadata": {},
   "outputs": [
    {
     "data": {
      "text/plain": [
       "[1, 2, 3, 'pwskills', 'swati', 'oswald', (7+5j)]"
      ]
     },
     "execution_count": 8,
     "metadata": {},
     "output_type": "execute_result"
    }
   ],
   "source": [
    "list_cont[5]=\"oswald\"\n",
    "list_cont"
   ]
  },
  {
   "cell_type": "code",
   "execution_count": 9,
   "id": "b8d8b44d-70b5-4c2b-b46d-45ab8917b540",
   "metadata": {},
   "outputs": [
    {
     "data": {
      "text/plain": [
       "[1, 2, 3, 'pwskills', 'swati', 'oswald', 'school']"
      ]
     },
     "execution_count": 9,
     "metadata": {},
     "output_type": "execute_result"
    }
   ],
   "source": [
    "list_cont[6]=\"school\"\n",
    "list_cont"
   ]
  },
  {
   "cell_type": "raw",
   "id": "d223987f-8794-4720-b518-3388f8e0c454",
   "metadata": {},
   "source": [
    "#Immutable objects>> immutable is the when no chamge can be made over time.once created ,the value can't be changed,its permanent."
   ]
  },
  {
   "cell_type": "code",
   "execution_count": 1,
   "id": "6ac17b1e-ee43-497e-b99c-c354784ba775",
   "metadata": {},
   "outputs": [],
   "source": [
    "#Examples>> strings,numbers(int,float,complex),"
   ]
  },
  {
   "cell_type": "code",
   "execution_count": 2,
   "id": "39f289a7-34ca-46d5-9ee5-971ea77548b3",
   "metadata": {},
   "outputs": [
    {
     "data": {
      "text/plain": [
       "'Swati'"
      ]
     },
     "execution_count": 2,
     "metadata": {},
     "output_type": "execute_result"
    }
   ],
   "source": [
    "a=\"Swati\"\n",
    "a"
   ]
  },
  {
   "cell_type": "code",
   "execution_count": 3,
   "id": "8dc91327-781d-46b1-ba23-48ef401a8485",
   "metadata": {},
   "outputs": [
    {
     "data": {
      "text/plain": [
       "str"
      ]
     },
     "execution_count": 3,
     "metadata": {},
     "output_type": "execute_result"
    }
   ],
   "source": [
    "type(a)"
   ]
  },
  {
   "cell_type": "code",
   "execution_count": 6,
   "id": "a8a4b9a5-3449-41dc-8dee-07fef2d11e60",
   "metadata": {},
   "outputs": [
    {
     "data": {
      "text/plain": [
       "'S'"
      ]
     },
     "execution_count": 6,
     "metadata": {},
     "output_type": "execute_result"
    }
   ],
   "source": [
    "a[0]"
   ]
  },
  {
   "cell_type": "code",
   "execution_count": 7,
   "id": "68809214-1d6c-4576-86e4-f29a34ff5843",
   "metadata": {},
   "outputs": [
    {
     "ename": "TypeError",
     "evalue": "'str' object does not support item assignment",
     "output_type": "error",
     "traceback": [
      "\u001b[0;31m---------------------------------------------------------------------------\u001b[0m",
      "\u001b[0;31mTypeError\u001b[0m                                 Traceback (most recent call last)",
      "Cell \u001b[0;32mIn[7], line 1\u001b[0m\n\u001b[0;32m----> 1\u001b[0m \u001b[43ma\u001b[49m\u001b[43m[\u001b[49m\u001b[38;5;241;43m0\u001b[39;49m\u001b[43m]\u001b[49m\u001b[38;5;241m=\u001b[39m\u001b[38;5;124m\"\u001b[39m\u001b[38;5;124mi\u001b[39m\u001b[38;5;124m\"\u001b[39m\n",
      "\u001b[0;31mTypeError\u001b[0m: 'str' object does not support item assignment"
     ]
    }
   ],
   "source": [
    "a[0]=\"i\""
   ]
  },
  {
   "cell_type": "code",
   "execution_count": 8,
   "id": "2ff7ee22-592b-4474-87fb-cc80697f8a00",
   "metadata": {},
   "outputs": [
    {
     "data": {
      "text/plain": [
       "'t'"
      ]
     },
     "execution_count": 8,
     "metadata": {},
     "output_type": "execute_result"
    }
   ],
   "source": [
    "a[3]"
   ]
  },
  {
   "cell_type": "code",
   "execution_count": 9,
   "id": "f8839ee2-12a9-4bf3-a241-249b44c023f8",
   "metadata": {},
   "outputs": [
    {
     "ename": "TypeError",
     "evalue": "'str' object does not support item assignment",
     "output_type": "error",
     "traceback": [
      "\u001b[0;31m---------------------------------------------------------------------------\u001b[0m",
      "\u001b[0;31mTypeError\u001b[0m                                 Traceback (most recent call last)",
      "Cell \u001b[0;32mIn[9], line 1\u001b[0m\n\u001b[0;32m----> 1\u001b[0m \u001b[43ma\u001b[49m\u001b[43m[\u001b[49m\u001b[38;5;241;43m3\u001b[39;49m\u001b[43m]\u001b[49m\u001b[38;5;241m=\u001b[39m\u001b[38;5;124m\"\u001b[39m\u001b[38;5;124mp\u001b[39m\u001b[38;5;124m\"\u001b[39m\n",
      "\u001b[0;31mTypeError\u001b[0m: 'str' object does not support item assignment"
     ]
    }
   ],
   "source": [
    "a[3]=\"p\""
   ]
  },
  {
   "cell_type": "code",
   "execution_count": 10,
   "id": "7082bdc6-2da7-4c77-a9af-c3f0f6cc396b",
   "metadata": {},
   "outputs": [
    {
     "data": {
      "text/plain": [
       "float"
      ]
     },
     "execution_count": 10,
     "metadata": {},
     "output_type": "execute_result"
    }
   ],
   "source": [
    "b=4.5\n",
    "type(b)"
   ]
  },
  {
   "cell_type": "code",
   "execution_count": 11,
   "id": "ed1ba64a-a444-4aaa-ab95-db22704f6921",
   "metadata": {},
   "outputs": [
    {
     "ename": "TypeError",
     "evalue": "'float' object does not support item assignment",
     "output_type": "error",
     "traceback": [
      "\u001b[0;31m---------------------------------------------------------------------------\u001b[0m",
      "\u001b[0;31mTypeError\u001b[0m                                 Traceback (most recent call last)",
      "Cell \u001b[0;32mIn[11], line 1\u001b[0m\n\u001b[0;32m----> 1\u001b[0m \u001b[43mb\u001b[49m\u001b[43m[\u001b[49m\u001b[38;5;241;43m4.5\u001b[39;49m\u001b[43m]\u001b[49m\u001b[38;5;241m=\u001b[39m\u001b[38;5;124m\"\u001b[39m\u001b[38;5;124mint\u001b[39m\u001b[38;5;124m\"\u001b[39m\n",
      "\u001b[0;31mTypeError\u001b[0m: 'float' object does not support item assignment"
     ]
    }
   ],
   "source": [
    "b[4.5]=\"int\""
   ]
  },
  {
   "cell_type": "code",
   "execution_count": 27,
   "id": "495c9364-3fbd-4dde-bb1b-688124b70f55",
   "metadata": {},
   "outputs": [
    {
     "data": {
      "text/plain": [
       "complex"
      ]
     },
     "execution_count": 27,
     "metadata": {},
     "output_type": "execute_result"
    }
   ],
   "source": [
    "com=4+9j\n",
    "type(c)"
   ]
  },
  {
   "cell_type": "code",
   "execution_count": 28,
   "id": "fc5368a3-fb89-461e-9b33-0b6855aa112b",
   "metadata": {},
   "outputs": [
    {
     "data": {
      "text/plain": [
       "4.0"
      ]
     },
     "execution_count": 28,
     "metadata": {},
     "output_type": "execute_result"
    }
   ],
   "source": [
    "c=4+9j\n",
    "com.real"
   ]
  },
  {
   "cell_type": "code",
   "execution_count": 29,
   "id": "a823f297-9968-44ea-a63b-43c9f208f7be",
   "metadata": {},
   "outputs": [
    {
     "data": {
      "text/plain": [
       "9.0"
      ]
     },
     "execution_count": 29,
     "metadata": {},
     "output_type": "execute_result"
    }
   ],
   "source": [
    "com.imag"
   ]
  },
  {
   "cell_type": "code",
   "execution_count": 30,
   "id": "89eae18a-f13b-40e0-91a2-d6400a59c3a2",
   "metadata": {},
   "outputs": [
    {
     "ename": "TypeError",
     "evalue": "'complex' object does not support item assignment",
     "output_type": "error",
     "traceback": [
      "\u001b[0;31m---------------------------------------------------------------------------\u001b[0m",
      "\u001b[0;31mTypeError\u001b[0m                                 Traceback (most recent call last)",
      "Cell \u001b[0;32mIn[30], line 1\u001b[0m\n\u001b[0;32m----> 1\u001b[0m \u001b[43mcom\u001b[49m\u001b[43m[\u001b[49m\u001b[38;5;241;43m4\u001b[39;49m\u001b[38;5;241;43m+\u001b[39;49m\u001b[38;5;241;43m9\u001b[39;49m\u001b[43mj\u001b[49m\u001b[43m]\u001b[49m\u001b[38;5;241m=\u001b[39m\u001b[38;5;124m\"\u001b[39m\u001b[38;5;124mint\u001b[39m\u001b[38;5;124m\"\u001b[39m\n",
      "\u001b[0;31mTypeError\u001b[0m: 'complex' object does not support item assignment"
     ]
    }
   ],
   "source": [
    "com[4+9j]=\"int\""
   ]
  },
  {
   "cell_type": "code",
   "execution_count": 71,
   "id": "15819046-4d60-441b-9a71-24bd88c27f6b",
   "metadata": {},
   "outputs": [],
   "source": [
    "#4.Discuss the different types of operators in python and provide examples of how they are used."
   ]
  },
  {
   "cell_type": "raw",
   "id": "c4518b08-5db4-48c3-afb9-ba5fb9ac87e8",
   "metadata": {},
   "source": [
    "# Answers:-\n",
    "\n",
    "#Different types of operators"
   ]
  },
  {
   "cell_type": "code",
   "execution_count": 73,
   "id": "4e7f8453-ee91-4142-a88d-871f122339f4",
   "metadata": {},
   "outputs": [
    {
     "data": {
      "text/plain": [
       "7"
      ]
     },
     "execution_count": 73,
     "metadata": {},
     "output_type": "execute_result"
    }
   ],
   "source": [
    "# Addition:-\n",
    "\n",
    "a=2\n",
    "b=5\n",
    "a+b"
   ]
  },
  {
   "cell_type": "code",
   "execution_count": 74,
   "id": "b5eef06e-f1f0-45da-a816-b2e9478993cc",
   "metadata": {},
   "outputs": [],
   "source": [
    "# subbtraction"
   ]
  },
  {
   "cell_type": "code",
   "execution_count": 75,
   "id": "047a897a-25c3-4e38-95c7-c7bc16f12f30",
   "metadata": {},
   "outputs": [
    {
     "data": {
      "text/plain": [
       "2104"
      ]
     },
     "execution_count": 75,
     "metadata": {},
     "output_type": "execute_result"
    }
   ],
   "source": [
    "c=10000\n",
    "d=7896\n",
    "c-d"
   ]
  },
  {
   "cell_type": "code",
   "execution_count": 76,
   "id": "d50be1b5-47b7-4e3f-a515-dcbad4d4b12e",
   "metadata": {},
   "outputs": [],
   "source": [
    "# multiplication"
   ]
  },
  {
   "cell_type": "code",
   "execution_count": 77,
   "id": "0116bf15-9dfa-4cf7-90f5-42fa36d2dd01",
   "metadata": {},
   "outputs": [
    {
     "data": {
      "text/plain": [
       "83504"
      ]
     },
     "execution_count": 77,
     "metadata": {},
     "output_type": "execute_result"
    }
   ],
   "source": [
    "e=2456\n",
    "f=34\n",
    "e*f"
   ]
  },
  {
   "cell_type": "code",
   "execution_count": 78,
   "id": "3dd9e918-b674-4fa4-bdc1-5a0ad7aceab6",
   "metadata": {},
   "outputs": [],
   "source": [
    "#Division"
   ]
  },
  {
   "cell_type": "code",
   "execution_count": 79,
   "id": "0a2d9b82-055f-46e9-a965-694f948d581d",
   "metadata": {},
   "outputs": [
    {
     "data": {
      "text/plain": [
       "1152.3333333333333"
      ]
     },
     "execution_count": 79,
     "metadata": {},
     "output_type": "execute_result"
    }
   ],
   "source": [
    "g=3457\n",
    "f=3\n",
    "g/f"
   ]
  },
  {
   "cell_type": "code",
   "execution_count": 80,
   "id": "84012d55-d929-416f-ae12-5099b6658f9b",
   "metadata": {},
   "outputs": [],
   "source": [
    "# Floor Division"
   ]
  },
  {
   "cell_type": "code",
   "execution_count": 81,
   "id": "d252af2e-e1af-4f99-805f-dd7a5ee621d9",
   "metadata": {},
   "outputs": [
    {
     "data": {
      "text/plain": [
       "126"
      ]
     },
     "execution_count": 81,
     "metadata": {},
     "output_type": "execute_result"
    }
   ],
   "source": [
    "h=5674\n",
    "i=45\n",
    "h//i"
   ]
  },
  {
   "cell_type": "code",
   "execution_count": 82,
   "id": "c6bc8802-2cbb-4921-922b-efd0aa3356c3",
   "metadata": {},
   "outputs": [],
   "source": [
    "# Modulus"
   ]
  },
  {
   "cell_type": "code",
   "execution_count": 83,
   "id": "e5545a6d-e24b-4af5-bcfa-a0a5251afc62",
   "metadata": {},
   "outputs": [
    {
     "data": {
      "text/plain": [
       "10"
      ]
     },
     "execution_count": 83,
     "metadata": {},
     "output_type": "execute_result"
    }
   ],
   "source": [
    "a=6786\n",
    "b=56\n",
    "a%b"
   ]
  },
  {
   "cell_type": "code",
   "execution_count": 84,
   "id": "4de78582-ce04-41bf-a559-a153b1f67c4c",
   "metadata": {},
   "outputs": [],
   "source": [
    "# exponentiation"
   ]
  },
  {
   "cell_type": "code",
   "execution_count": 86,
   "id": "dd16c05e-ad81-49d9-a230-03d588e7c39a",
   "metadata": {},
   "outputs": [
    {
     "data": {
      "text/plain": [
       "25"
      ]
     },
     "execution_count": 86,
     "metadata": {},
     "output_type": "execute_result"
    }
   ],
   "source": [
    "a=5\n",
    "b=2\n",
    "a**b"
   ]
  },
  {
   "cell_type": "code",
   "execution_count": 1,
   "id": "3c398da9-ee5b-417e-b16d-9b33ec2a4f4d",
   "metadata": {},
   "outputs": [
    {
     "data": {
      "text/plain": [
       "5"
      ]
     },
     "execution_count": 1,
     "metadata": {},
     "output_type": "execute_result"
    }
   ],
   "source": [
    "#a=5\n",
    "a=5\n",
    "a"
   ]
  },
  {
   "cell_type": "code",
   "execution_count": 2,
   "id": "dbf2922b-fc83-4b9b-b268-f3646953f5c3",
   "metadata": {},
   "outputs": [
    {
     "data": {
      "text/plain": [
       "10"
      ]
     },
     "execution_count": 2,
     "metadata": {},
     "output_type": "execute_result"
    }
   ],
   "source": [
    "a+=5\n",
    "a"
   ]
  },
  {
   "cell_type": "code",
   "execution_count": 4,
   "id": "1b352f29-d379-46ce-9913-4a58dc9ce5ee",
   "metadata": {},
   "outputs": [
    {
     "data": {
      "text/plain": [
       "0"
      ]
     },
     "execution_count": 4,
     "metadata": {},
     "output_type": "execute_result"
    }
   ],
   "source": [
    "a-=5\n",
    "a"
   ]
  },
  {
   "cell_type": "code",
   "execution_count": 8,
   "id": "1a25b1b5-88c9-42dc-b6a1-afa9207937f7",
   "metadata": {},
   "outputs": [
    {
     "data": {
      "text/plain": [
       "15"
      ]
     },
     "execution_count": 8,
     "metadata": {},
     "output_type": "execute_result"
    }
   ],
   "source": [
    "a=3\n",
    "a*=5\n",
    "a"
   ]
  },
  {
   "cell_type": "code",
   "execution_count": 10,
   "id": "5bdbd347-cb09-4edb-8fdc-07fe2edb1ba3",
   "metadata": {},
   "outputs": [
    {
     "data": {
      "text/plain": [
       "1.6666666666666667"
      ]
     },
     "execution_count": 10,
     "metadata": {},
     "output_type": "execute_result"
    }
   ],
   "source": [
    "a/=3\n",
    "a"
   ]
  },
  {
   "cell_type": "code",
   "execution_count": 12,
   "id": "12d4caf4-9498-4794-b396-0cc218543420",
   "metadata": {},
   "outputs": [
    {
     "data": {
      "text/plain": [
       "0"
      ]
     },
     "execution_count": 12,
     "metadata": {},
     "output_type": "execute_result"
    }
   ],
   "source": [
    "a=6\n",
    "a%=3\n",
    "a"
   ]
  },
  {
   "cell_type": "code",
   "execution_count": 15,
   "id": "b454037f-0fcf-4eb6-9c8f-79e17d7ec3c3",
   "metadata": {},
   "outputs": [
    {
     "data": {
      "text/plain": [
       "3"
      ]
     },
     "execution_count": 15,
     "metadata": {},
     "output_type": "execute_result"
    }
   ],
   "source": [
    "a=15\n",
    "a//=4\n",
    "a"
   ]
  },
  {
   "cell_type": "code",
   "execution_count": 18,
   "id": "88109c6f-feaa-417d-ad76-01cbc15dc847",
   "metadata": {},
   "outputs": [
    {
     "data": {
      "text/plain": [
       "8"
      ]
     },
     "execution_count": 18,
     "metadata": {},
     "output_type": "execute_result"
    }
   ],
   "source": [
    "a=2\n",
    "a**=3\n",
    "a"
   ]
  },
  {
   "cell_type": "code",
   "execution_count": 20,
   "id": "6b2615b0-ebe3-4c6a-9d1d-fe3ed3956ef0",
   "metadata": {},
   "outputs": [
    {
     "data": {
      "text/plain": [
       "0"
      ]
     },
     "execution_count": 20,
     "metadata": {},
     "output_type": "execute_result"
    }
   ],
   "source": [
    "a=2\n",
    "a&=8\n",
    "a"
   ]
  },
  {
   "cell_type": "code",
   "execution_count": 26,
   "id": "71836126-20fd-4149-b294-e36909a559be",
   "metadata": {},
   "outputs": [
    {
     "data": {
      "text/plain": [
       "11"
      ]
     },
     "execution_count": 26,
     "metadata": {},
     "output_type": "execute_result"
    }
   ],
   "source": [
    "a=3\n",
    "a|=9\n",
    "a"
   ]
  },
  {
   "cell_type": "code",
   "execution_count": 28,
   "id": "066def47-45ea-4715-8935-05a1ac3cd7f1",
   "metadata": {},
   "outputs": [
    {
     "data": {
      "text/plain": [
       "2"
      ]
     },
     "execution_count": 28,
     "metadata": {},
     "output_type": "execute_result"
    }
   ],
   "source": [
    "a=7\n",
    "a^=5\n",
    "a"
   ]
  },
  {
   "cell_type": "code",
   "execution_count": 31,
   "id": "1a14d027-9527-49b1-9eae-610075ac4bb3",
   "metadata": {},
   "outputs": [
    {
     "data": {
      "text/plain": [
       "1"
      ]
     },
     "execution_count": 31,
     "metadata": {},
     "output_type": "execute_result"
    }
   ],
   "source": [
    "a=4\n",
    "a>>=2\n",
    "a"
   ]
  },
  {
   "cell_type": "code",
   "execution_count": 33,
   "id": "2e012f9f-4bd9-4de4-83c8-c253025796db",
   "metadata": {},
   "outputs": [
    {
     "data": {
      "text/plain": [
       "128"
      ]
     },
     "execution_count": 33,
     "metadata": {},
     "output_type": "execute_result"
    }
   ],
   "source": [
    "a=8\n",
    "a<<=4\n",
    "a"
   ]
  },
  {
   "cell_type": "code",
   "execution_count": 36,
   "id": "72990ac7-2496-434a-9503-0a27bd039d61",
   "metadata": {},
   "outputs": [],
   "source": [
    "#5.Explain the concept of type casting inpython with examples"
   ]
  },
  {
   "cell_type": "raw",
   "id": "0a67e2ef-1cab-4300-8d40-86c40669ffee",
   "metadata": {},
   "source": [
    "#Answer:-"
   ]
  },
  {
   "cell_type": "raw",
   "id": "62e6d9a1-5f64-4d2f-aae4-3422ac064f10",
   "metadata": {},
   "source": [
    "#Type casting is the process of converting a value from one data type to another.\n",
    "#It can be also known as type conversion or type coercion.\n",
    "#There are different types of type casting in different programming languages, like java ,c.\n",
    "#It is useful when we need to perform operations ondifferent data tyoes or when you want to store a value of one data type\n",
    "into a variable of another data type."
   ]
  },
  {
   "cell_type": "code",
   "execution_count": 37,
   "id": "9734eefd-bad2-4654-a597-0afd7e148739",
   "metadata": {},
   "outputs": [],
   "source": [
    "#types of type casting"
   ]
  },
  {
   "cell_type": "raw",
   "id": "2ef8be29-e0cd-4b1c-8292-b3d476c6f968",
   "metadata": {},
   "source": [
    "#1. Implicit type casting\n",
    "\n",
    "Automatically converting a smaller type to a larger type."
   ]
  },
  {
   "cell_type": "raw",
   "id": "ec865c74-c197-4fbc-b5d3-09b3f01bfdf1",
   "metadata": {},
   "source": [
    "#2. Explicit type casting\n",
    "\n",
    "converting a larger type to smaller type."
   ]
  },
  {
   "cell_type": "code",
   "execution_count": 38,
   "id": "86fcb88d-fb5d-40d7-a393-dab3a6a18ea2",
   "metadata": {},
   "outputs": [
    {
     "data": {
      "text/plain": [
       "int"
      ]
     },
     "execution_count": 38,
     "metadata": {},
     "output_type": "execute_result"
    }
   ],
   "source": [
    "a=3\n",
    "a\n",
    "type(a)"
   ]
  },
  {
   "cell_type": "code",
   "execution_count": 39,
   "id": "3b2ab4d7-bbdb-4a96-ae74-d33951c8cced",
   "metadata": {},
   "outputs": [
    {
     "data": {
      "text/plain": [
       "float"
      ]
     },
     "execution_count": 39,
     "metadata": {},
     "output_type": "execute_result"
    }
   ],
   "source": [
    "b=4.7\n",
    "b\n",
    "type(b)"
   ]
  },
  {
   "cell_type": "code",
   "execution_count": 40,
   "id": "23caa784-89d3-46c4-ac4b-784d563755a4",
   "metadata": {},
   "outputs": [
    {
     "data": {
      "text/plain": [
       "str"
      ]
     },
     "execution_count": 40,
     "metadata": {},
     "output_type": "execute_result"
    }
   ],
   "source": [
    "c=\"swati\"\n",
    "type(c)"
   ]
  },
  {
   "cell_type": "code",
   "execution_count": 41,
   "id": "d13fa290-208d-4889-afa6-a72f2269632c",
   "metadata": {},
   "outputs": [
    {
     "ename": "NameError",
     "evalue": "name 'swati' is not defined",
     "output_type": "error",
     "traceback": [
      "\u001b[0;31m---------------------------------------------------------------------------\u001b[0m",
      "\u001b[0;31mNameError\u001b[0m                                 Traceback (most recent call last)",
      "Cell \u001b[0;32mIn[41], line 1\u001b[0m\n\u001b[0;32m----> 1\u001b[0m \u001b[38;5;124m\"\u001b[39m\u001b[38;5;124m6\u001b[39m\u001b[38;5;124m\"\u001b[39m\u001b[38;5;241m+\u001b[39m\u001b[43mswati\u001b[49m\n",
      "\u001b[0;31mNameError\u001b[0m: name 'swati' is not defined"
     ]
    }
   ],
   "source": [
    "\"6\"+swati"
   ]
  },
  {
   "cell_type": "code",
   "execution_count": 42,
   "id": "1365494c-f167-45ba-bddc-461875c9f671",
   "metadata": {},
   "outputs": [],
   "source": [
    "#because 6 is string thats why it will throw an error.first convert name into str."
   ]
  },
  {
   "cell_type": "code",
   "execution_count": 43,
   "id": "6e94a529-7e0d-4387-a3c7-41c885bb2262",
   "metadata": {},
   "outputs": [
    {
     "data": {
      "text/plain": [
       "'6swati'"
      ]
     },
     "execution_count": 43,
     "metadata": {},
     "output_type": "execute_result"
    }
   ],
   "source": [
    "\"6\"+\"swati\""
   ]
  },
  {
   "cell_type": "code",
   "execution_count": 44,
   "id": "a24abe5b-da7a-4503-b874-87c8cc6aabe7",
   "metadata": {},
   "outputs": [
    {
     "data": {
      "text/plain": [
       "5.5"
      ]
     },
     "execution_count": 44,
     "metadata": {},
     "output_type": "execute_result"
    }
   ],
   "source": [
    "a=2\n",
    "b=3.5\n",
    "a+b"
   ]
  },
  {
   "cell_type": "code",
   "execution_count": 48,
   "id": "aa8821e8-e3da-4887-9acd-dc3bfc6b3c1d",
   "metadata": {},
   "outputs": [
    {
     "data": {
      "text/plain": [
       "5"
      ]
     },
     "execution_count": 48,
     "metadata": {},
     "output_type": "execute_result"
    }
   ],
   "source": [
    "a=\"2\"\n",
    "b=3\n",
    "int(a)+b"
   ]
  },
  {
   "cell_type": "code",
   "execution_count": 54,
   "id": "17e7c71c-97f9-455c-b5e1-badb27834416",
   "metadata": {},
   "outputs": [
    {
     "name": "stdout",
     "output_type": "stream",
     "text": [
      "<class 'str'>\n"
     ]
    }
   ],
   "source": [
    "#string to integer\n",
    "a=\"72\"\n",
    "print(type(a))\n"
   ]
  },
  {
   "cell_type": "code",
   "execution_count": 55,
   "id": "d2093d9b-5374-40af-8590-2876aea455de",
   "metadata": {},
   "outputs": [
    {
     "name": "stdout",
     "output_type": "stream",
     "text": [
      "<class 'int'>\n"
     ]
    }
   ],
   "source": [
    "print(type(int(a)))"
   ]
  },
  {
   "cell_type": "code",
   "execution_count": 56,
   "id": "bc8581a4-7a63-490b-bb7a-4418bb751e65",
   "metadata": {},
   "outputs": [
    {
     "data": {
      "text/plain": [
       "float"
      ]
     },
     "execution_count": 56,
     "metadata": {},
     "output_type": "execute_result"
    }
   ],
   "source": [
    "#float to integer\n",
    "\n",
    "a=3.4\n",
    "type(a)\n",
    "\n"
   ]
  },
  {
   "cell_type": "code",
   "execution_count": 57,
   "id": "477d7e51-839f-4c97-8f03-839c49182fea",
   "metadata": {},
   "outputs": [
    {
     "data": {
      "text/plain": [
       "3"
      ]
     },
     "execution_count": 57,
     "metadata": {},
     "output_type": "execute_result"
    }
   ],
   "source": [
    "int(a)"
   ]
  },
  {
   "cell_type": "code",
   "execution_count": 58,
   "id": "4d8e1186-229e-42b6-9671-aeb5c18bcad8",
   "metadata": {},
   "outputs": [
    {
     "data": {
      "text/plain": [
       "float"
      ]
     },
     "execution_count": 58,
     "metadata": {},
     "output_type": "execute_result"
    }
   ],
   "source": [
    "a=8.678\n",
    "type(a)"
   ]
  },
  {
   "cell_type": "code",
   "execution_count": 61,
   "id": "866543b9-47bb-425a-8bf0-02c239496694",
   "metadata": {},
   "outputs": [
    {
     "data": {
      "text/plain": [
       "8"
      ]
     },
     "execution_count": 61,
     "metadata": {},
     "output_type": "execute_result"
    }
   ],
   "source": [
    "float_value=int(a)\n",
    "float_value"
   ]
  },
  {
   "cell_type": "code",
   "execution_count": 62,
   "id": "57590498-689f-4db2-8c6d-7e4947f885e8",
   "metadata": {},
   "outputs": [
    {
     "data": {
      "text/plain": [
       "int"
      ]
     },
     "execution_count": 62,
     "metadata": {},
     "output_type": "execute_result"
    }
   ],
   "source": [
    "type(float_value)"
   ]
  },
  {
   "cell_type": "raw",
   "id": "cb74693e-8171-4076-a795-6cf42108e4dd",
   "metadata": {},
   "source": [
    "#implicit type casting\n",
    "python understands the data type"
   ]
  },
  {
   "cell_type": "code",
   "execution_count": 64,
   "id": "eb03aeef-17b7-4750-88ce-b6af1edc1cb8",
   "metadata": {},
   "outputs": [
    {
     "data": {
      "text/plain": [
       "6"
      ]
     },
     "execution_count": 64,
     "metadata": {},
     "output_type": "execute_result"
    }
   ],
   "source": [
    "a=2\n",
    "b=4\n",
    "a+b"
   ]
  },
  {
   "cell_type": "code",
   "execution_count": 65,
   "id": "afe0d7cd-a864-4a08-9669-47169faf09a4",
   "metadata": {},
   "outputs": [
    {
     "data": {
      "text/plain": [
       "6.7"
      ]
     },
     "execution_count": 65,
     "metadata": {},
     "output_type": "execute_result"
    }
   ],
   "source": [
    "2+4.7"
   ]
  },
  {
   "cell_type": "code",
   "execution_count": 66,
   "id": "a697b6a5-3380-4b4e-b0eb-8052e7e0e7ca",
   "metadata": {},
   "outputs": [],
   "source": [
    "#explicit type casting"
   ]
  },
  {
   "cell_type": "code",
   "execution_count": 67,
   "id": "4151a7e9-e04d-4e8a-9621-fc1f66b051b0",
   "metadata": {},
   "outputs": [
    {
     "data": {
      "text/plain": [
       "float"
      ]
     },
     "execution_count": 67,
     "metadata": {},
     "output_type": "execute_result"
    }
   ],
   "source": [
    "a=3.5\n",
    "type(a)"
   ]
  },
  {
   "cell_type": "code",
   "execution_count": 68,
   "id": "425ed399-fe52-4726-bf79-2995e8a9d688",
   "metadata": {},
   "outputs": [],
   "source": [
    "float_value=int(a)"
   ]
  },
  {
   "cell_type": "code",
   "execution_count": 69,
   "id": "ea354318-f3f2-4957-b76b-8051a9fd19f9",
   "metadata": {},
   "outputs": [
    {
     "data": {
      "text/plain": [
       "3"
      ]
     },
     "execution_count": 69,
     "metadata": {},
     "output_type": "execute_result"
    }
   ],
   "source": [
    "float_value"
   ]
  },
  {
   "cell_type": "code",
   "execution_count": 71,
   "id": "5d19b5a8-9f8f-41a5-97ca-498f91d44299",
   "metadata": {},
   "outputs": [
    {
     "data": {
      "text/plain": [
       "int"
      ]
     },
     "execution_count": 71,
     "metadata": {},
     "output_type": "execute_result"
    }
   ],
   "source": [
    "a=7\n",
    "type(a)"
   ]
  },
  {
   "cell_type": "code",
   "execution_count": 72,
   "id": "571b6775-ca97-4f1f-a57c-ca44bab11083",
   "metadata": {},
   "outputs": [
    {
     "data": {
      "text/plain": [
       "True"
      ]
     },
     "execution_count": 72,
     "metadata": {},
     "output_type": "execute_result"
    }
   ],
   "source": [
    "bool(a)"
   ]
  },
  {
   "cell_type": "code",
   "execution_count": 75,
   "id": "7c3f742d-5b2b-4c6e-871a-70a72daf7eaf",
   "metadata": {},
   "outputs": [
    {
     "data": {
      "text/plain": [
       "True"
      ]
     },
     "execution_count": 75,
     "metadata": {},
     "output_type": "execute_result"
    }
   ],
   "source": [
    "int=bool(a)\n",
    "bool(a)"
   ]
  },
  {
   "cell_type": "code",
   "execution_count": 79,
   "id": "1989a61a-269d-46de-958e-57a750f97e31",
   "metadata": {},
   "outputs": [
    {
     "data": {
      "text/plain": [
       "(8+0j)"
      ]
     },
     "execution_count": 79,
     "metadata": {},
     "output_type": "execute_result"
    }
   ],
   "source": [
    "a=8\n",
    "int=complex(a)\n",
    "complex(a)"
   ]
  },
  {
   "cell_type": "code",
   "execution_count": 84,
   "id": "67ab3bcc-a5ca-4ae7-960b-20cb9bfbaa61",
   "metadata": {},
   "outputs": [],
   "source": [
    "#6. How do conditional statements work in python?illustrate with examples.\n",
    "\n"
   ]
  },
  {
   "cell_type": "raw",
   "id": "b84c858a-fb13-447e-b705-76f01b665cba",
   "metadata": {},
   "source": [
    "#conditional statements>> helps us to code decision based on some preconditions \n",
    "#if\n",
    "#if else\n",
    "#if elif(elseif) else\n",
    "#nested if else"
   ]
  },
  {
   "cell_type": "code",
   "execution_count": 85,
   "id": "59601746-88fc-4306-a506-74b5fc540bcf",
   "metadata": {},
   "outputs": [],
   "source": [
    "#syntax\n",
    "\n",
    "\n",
    "#if statements\n",
    "#syntax\n",
    "#if condition True:\n",
    " #   block of code will be executed"
   ]
  },
  {
   "cell_type": "code",
   "execution_count": 86,
   "id": "feb74294-b9a7-4abe-9de2-5f83c7b00e2c",
   "metadata": {},
   "outputs": [
    {
     "name": "stdout",
     "output_type": "stream",
     "text": [
      "The number is greater than 2\n"
     ]
    }
   ],
   "source": [
    "a=3\n",
    "if a>2:\n",
    "    print(\"The number is greater than 2\")\n",
    "else:\n",
    "    print(\"The statement is false\")"
   ]
  },
  {
   "cell_type": "code",
   "execution_count": 91,
   "id": "6e85496c-6f80-469f-9525-54eb5991c8c3",
   "metadata": {},
   "outputs": [
    {
     "name": "stdout",
     "output_type": "stream",
     "text": [
      "It is cool\n"
     ]
    }
   ],
   "source": [
    "temperature=25\n",
    "if temperature>30:\n",
    "    print(\"I is hot outside\")\n",
    "else:\n",
    "    print(\"It is cool\")"
   ]
  },
  {
   "cell_type": "code",
   "execution_count": 93,
   "id": "a5b6d4ee-e177-4c79-bac9-b59c8dd725fa",
   "metadata": {},
   "outputs": [
    {
     "name": "stdout",
     "output_type": "stream",
     "text": [
      "momos\n"
     ]
    }
   ],
   "source": [
    "momos=True\n",
    "if momos:\n",
    "    print(\"momos\")"
   ]
  },
  {
   "cell_type": "code",
   "execution_count": 97,
   "id": "7e043407-5d88-4433-86a6-9156ce2bf29a",
   "metadata": {},
   "outputs": [
    {
     "ename": "NameError",
     "evalue": "name 'num' is not defined",
     "output_type": "error",
     "traceback": [
      "\u001b[0;31m---------------------------------------------------------------------------\u001b[0m",
      "\u001b[0;31mNameError\u001b[0m                                 Traceback (most recent call last)",
      "Cell \u001b[0;32mIn[97], line 1\u001b[0m\n\u001b[0;32m----> 1\u001b[0m \u001b[38;5;28;01mif\u001b[39;00m \u001b[43mnum\u001b[49m\u001b[38;5;241m%\u001b[39m\u001b[38;5;241m5\u001b[39m\u001b[38;5;241m==\u001b[39m\u001b[38;5;241m0\u001b[39m:\n\u001b[1;32m      2\u001b[0m     \u001b[38;5;28mprint\u001b[39m (\u001b[38;5;124m\"\u001b[39m\u001b[38;5;124modd\u001b[39m\u001b[38;5;124m\"\u001b[39m)\n\u001b[1;32m      3\u001b[0m \u001b[38;5;28;01melse\u001b[39;00m:\n",
      "\u001b[0;31mNameError\u001b[0m: name 'num' is not defined"
     ]
    }
   ],
   "source": [
    "if num%5==0:\n",
    "    print (\"odd\")\n",
    "else:\n",
    "    print(\"odd\")"
   ]
  },
  {
   "cell_type": "code",
   "execution_count": 100,
   "id": "74a98664-e83e-4fc5-9db7-aca5c51146be",
   "metadata": {},
   "outputs": [
    {
     "name": "stdout",
     "output_type": "stream",
     "text": [
      "spring roll\n"
     ]
    }
   ],
   "source": [
    "rupee=80\n",
    "if rupee<100:\n",
    "    print(\"spring roll\")\n",
    "elif(100<=rupee<150):\n",
    "    print(\"Burger\")\n",
    "elif(150<=rupee<180):\n",
    "    print(\"pizza\")\n",
    "else:\n",
    "    print(\"momo\")"
   ]
  },
  {
   "cell_type": "code",
   "execution_count": 103,
   "id": "9cfb3e20-fbe2-4014-8df4-5c97f8b7a1d9",
   "metadata": {},
   "outputs": [
    {
     "name": "stdout",
     "output_type": "stream",
     "text": [
      "x is greater than 5 but y is equal to 5\n"
     ]
    }
   ],
   "source": [
    "#nested if else >> we have multiple if else inside if else\n",
    "x=9\n",
    "y=5\n",
    "if x>5:\n",
    "    if y>5:\n",
    "        print(\"Both x and y is greater than 5\")\n",
    "    else:\n",
    "        print(\"x is greater than 5 but y is equal to 5\")\n",
    "else:\n",
    "    print(\"x is not greater than 5\")"
   ]
  },
  {
   "cell_type": "code",
   "execution_count": 5,
   "id": "c1f487d2-3ae7-449a-981c-1b90b2acff1c",
   "metadata": {},
   "outputs": [
    {
     "name": "stdin",
     "output_type": "stream",
     "text": [
      "Please enter your dish name momo\n",
      "please enter dish catogery veg momo\n",
      "Please enter your payment mode online\n"
     ]
    },
    {
     "name": "stdout",
     "output_type": "stream",
     "text": [
      "your food is being ready\n"
     ]
    }
   ],
   "source": [
    "name=input(\"Please enter your dish name\")\n",
    "catogery=input(\"please enter dish catogery\")\n",
    "payment=input(\"Please enter your payment mode\")\n",
    "\n",
    "if name==\"\":\n",
    "    print(\"please enter a valid dish name,can not be empty\")\n",
    "else:\n",
    "    if \" name \"   in catogery:\n",
    "        print(\"please enter a valid dish catogery\")\n",
    "    else:\n",
    "        if name==\"\":\n",
    "            print(\"dish name entered, pls wait\")\n",
    "        else:\n",
    "            print(\"your food is being ready\")"
   ]
  },
  {
   "cell_type": "code",
   "execution_count": 4,
   "id": "2a966222-a97c-45cc-a762-f53f9488a56c",
   "metadata": {},
   "outputs": [],
   "source": [
    "#7.Describe the different types of loop in python and their use cases with examples"
   ]
  },
  {
   "cell_type": "raw",
   "id": "74894989-f1e5-43f2-b9fa-9de0139feac5",
   "metadata": {},
   "source": [
    "#Answer:-\n",
    "\n",
    "#Loop statement >> it allows you to execute a block of code repeatedly\n",
    "#loops are of two type>> while loop and for loops\n",
    "#while loop>> repeatedly executes a block of code untill a conditionis met\n"
   ]
  },
  {
   "cell_type": "code",
   "execution_count": 5,
   "id": "2752e564-f137-49fe-bd38-817421b40493",
   "metadata": {},
   "outputs": [],
   "source": [
    "#while loop"
   ]
  },
  {
   "cell_type": "code",
   "execution_count": 3,
   "id": "13a473ee-821b-4c77-bc1b-71705a0941c5",
   "metadata": {},
   "outputs": [
    {
     "name": "stdout",
     "output_type": "stream",
     "text": [
      "4\n",
      "7\n"
     ]
    }
   ],
   "source": [
    "n=8\n",
    "i=4\n",
    "while i<n:\n",
    "    print(i)\n",
    "    i=i+3"
   ]
  },
  {
   "cell_type": "code",
   "execution_count": 3,
   "id": "98e169ff-c529-4b32-b0d3-53f27aa0361c",
   "metadata": {},
   "outputs": [
    {
     "name": "stdout",
     "output_type": "stream",
     "text": [
      "9\n",
      "7\n",
      "5\n",
      "3\n",
      "1\n"
     ]
    }
   ],
   "source": [
    "count=9\n",
    "while count>0:\n",
    "    print(count)\n",
    "    count=count-2"
   ]
  },
  {
   "cell_type": "raw",
   "id": "d490a834-019f-4dca-9c3a-4b8f7cf075c1",
   "metadata": {},
   "source": [
    "#continue"
   ]
  },
  {
   "cell_type": "code",
   "execution_count": 17,
   "id": "1c10d1c6-edbe-4488-8cb5-d2e823cde5b6",
   "metadata": {},
   "outputs": [
    {
     "name": "stdout",
     "output_type": "stream",
     "text": [
      "3\n",
      "4\n",
      "5\n",
      "6\n",
      "7\n",
      "8\n",
      "This is continue without any iteration\n"
     ]
    }
   ],
   "source": [
    "\n",
    "n=8\n",
    "i=2\n",
    "while i <n:\n",
    "    i=i+1\n",
    "    if i==2:\n",
    "        continue\n",
    "    print(i)\n",
    "else:\n",
    "     print(\"This is continue without any iteration\")"
   ]
  },
  {
   "cell_type": "code",
   "execution_count": 18,
   "id": "fa818e38-ad4f-4dc9-9a03-71b64ca0d37e",
   "metadata": {},
   "outputs": [],
   "source": [
    "#for loop"
   ]
  },
  {
   "cell_type": "code",
   "execution_count": 22,
   "id": "098d8a43-f297-4ae9-b132-33adce1b8904",
   "metadata": {},
   "outputs": [
    {
     "name": "stdout",
     "output_type": "stream",
     "text": [
      "p\n",
      "w\n",
      "s\n",
      "k\n",
      "i\n",
      "l\n",
      "l\n",
      "s\n"
     ]
    }
   ],
   "source": [
    "for i in \"pwskills\":\n",
    "    print(i)"
   ]
  },
  {
   "cell_type": "code",
   "execution_count": 23,
   "id": "40c06171-a791-4add-8b9a-6120f77eee88",
   "metadata": {},
   "outputs": [
    {
     "name": "stdout",
     "output_type": "stream",
     "text": [
      "s\n",
      "w\n",
      "a\n",
      "t\n",
      "i\n"
     ]
    }
   ],
   "source": [
    "a=\"Swati\"\n",
    "for a in \"swati\":\n",
    "    print(a)"
   ]
  },
  {
   "cell_type": "code",
   "execution_count": 25,
   "id": "d5820cca-32bd-4eb4-b38a-8d39dcde21b7",
   "metadata": {},
   "outputs": [
    {
     "name": "stdout",
     "output_type": "stream",
     "text": [
      "1\n",
      "3\n",
      "6\n",
      "swati\n",
      "momo\n"
     ]
    }
   ],
   "source": [
    "l=[1,3,6,\"swati\",\"momo\"]\n",
    "for i in l:\n",
    "    print(i)"
   ]
  },
  {
   "cell_type": "code",
   "execution_count": 26,
   "id": "0debd033-a212-43e7-bbc5-4e37029a2d0d",
   "metadata": {},
   "outputs": [],
   "source": [
    "#break statement i for loop"
   ]
  },
  {
   "cell_type": "code",
   "execution_count": 28,
   "id": "e78888fc-3e3b-478b-bea7-d54c58f46b24",
   "metadata": {},
   "outputs": [
    {
     "name": "stdout",
     "output_type": "stream",
     "text": [
      "1\n",
      "2\n",
      "3\n",
      "4\n",
      "5\n"
     ]
    }
   ],
   "source": [
    "l=[1,2,3,4,5,\"swati\"]\n",
    "for i in l:\n",
    "    if i == \"swati\":\n",
    "        break\n",
    "    print(i)\n",
    "else:\n",
    "    print(\"This will give a break statement\")"
   ]
  },
  {
   "cell_type": "code",
   "execution_count": 33,
   "id": "3dec4558-9df1-4e54-a7be-73d15ab58885",
   "metadata": {},
   "outputs": [
    {
     "name": "stdout",
     "output_type": "stream",
     "text": [
      "1\n",
      "2\n",
      "3\n",
      "4\n",
      "6\n",
      "7\n",
      "8\n",
      "9\n"
     ]
    }
   ],
   "source": [
    "l=[1,2,3,4,6,7,8,9,5]\n",
    "for i in l:\n",
    "    if i==5:\n",
    "        break\n",
    "    print(i)\n",
    "else:\n",
    "    print(\"this will break upto 5\")"
   ]
  },
  {
   "cell_type": "code",
   "execution_count": 35,
   "id": "2bd8544b-7406-4d45-a53f-176fa19dc4ff",
   "metadata": {},
   "outputs": [
    {
     "data": {
      "text/plain": [
       "[1, 2, 3, 4, 5, 6, 7, 8, 9, 10, 11, 12, 13, 14, 15, 16, 17, 18, 19]"
      ]
     },
     "execution_count": 35,
     "metadata": {},
     "output_type": "execute_result"
    }
   ],
   "source": [
    "#range(1,20) >> #it will give value from 1 to 19\n",
    "\n",
    "\n",
    "list(range(1,20))"
   ]
  },
  {
   "cell_type": "code",
   "execution_count": 40,
   "id": "96d361e0-b237-4fc2-8340-ef27762439ff",
   "metadata": {},
   "outputs": [
    {
     "name": "stdout",
     "output_type": "stream",
     "text": [
      "0\n",
      "1\n",
      "2\n",
      "3\n",
      "4\n",
      "5\n",
      "6\n",
      "7\n",
      "8\n",
      "9\n"
     ]
    }
   ],
   "source": [
    "for i in range(0,10):\n",
    "    print(i)"
   ]
  },
  {
   "cell_type": "code",
   "execution_count": 50,
   "id": "3a564c6f-80ca-41a6-a92c-c598ed0027cf",
   "metadata": {},
   "outputs": [
    {
     "name": "stdout",
     "output_type": "stream",
     "text": [
      "2 | 3 | 4 | 5 | 6 | 7 | 8 | "
     ]
    }
   ],
   "source": [
    "for i in range(2,9):\n",
    "    print(i,end=\" | \")"
   ]
  },
  {
   "cell_type": "code",
   "execution_count": null,
   "id": "26d00950-3cfc-433a-929c-1bbcbee87616",
   "metadata": {},
   "outputs": [],
   "source": []
  }
 ],
 "metadata": {
  "kernelspec": {
   "display_name": "Python 3 (ipykernel)",
   "language": "python",
   "name": "python3"
  },
  "language_info": {
   "codemirror_mode": {
    "name": "ipython",
    "version": 3
   },
   "file_extension": ".py",
   "mimetype": "text/x-python",
   "name": "python",
   "nbconvert_exporter": "python",
   "pygments_lexer": "ipython3",
   "version": "3.10.8"
  }
 },
 "nbformat": 4,
 "nbformat_minor": 5
}
